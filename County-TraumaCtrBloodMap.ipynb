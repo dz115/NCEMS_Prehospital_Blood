{
 "cells": [
  {
   "cell_type": "code",
   "execution_count": 3,
   "id": "d253c593-32a2-4aa7-8f25-ba7d9b58af46",
   "metadata": {},
   "outputs": [
    {
     "name": "stdout",
     "output_type": "stream",
     "text": [
      "Coordinates for '509 Biltmore Ave, Asheville, NC 28801, United States': (35.5766889, -82.54922485627307)\n"
     ]
    }
   ],
   "source": [
    "from geopy.geocoders import Nominatim\n",
    "from geopy.exc import GeocoderTimedOut\n",
    "\n",
    "def geocode_address(address):\n",
    "    \"\"\"\n",
    "    Geocode an address using Nominatim and return the latitude and longitude.\n",
    "    \"\"\"\n",
    "    geolocator = Nominatim(user_agent=\"APIEx\")\n",
    "    try:\n",
    "        location = geolocator.geocode(address)\n",
    "        if location:\n",
    "            return (location.latitude, location.longitude)\n",
    "        else:\n",
    "            return \"No location found\"\n",
    "    except GeocoderTimedOut:\n",
    "        return \"Geocoder Timed Out\"\n",
    "\n",
    "# Address to be geocoded; address for Mission Hospitals Ashville, NC, only trauma ctr in Mounain Area RAC\n",
    "address = \"509 Biltmore Ave, Asheville, NC 28801, United States\"\n",
    "\n",
    "# Geocoding the address\n",
    "coords = geocode_address(address)\n",
    "\n",
    "print(f\"Coordinates for '{address}': {coords}\")\n"
   ]
  },
  {
   "cell_type": "markdown",
   "id": "d404910b-d2e3-4a19-a615-9912bef08e61",
   "metadata": {},
   "source": [
    "Geocoded coords for one example trauma center (Mission Hospitals, Asheville, NC)"
   ]
  },
  {
   "cell_type": "markdown",
   "id": "54479454-3551-4608-8bb3-846199c762d7",
   "metadata": {},
   "source": [
    "Calculate Geographical Centroids for Mountain Area RAC:"
   ]
  },
  {
   "cell_type": "code",
   "execution_count": 6,
   "id": "d92f9b3a-44f4-4cc0-b219-7b9ac85f4874",
   "metadata": {},
   "outputs": [
    {
     "ename": "ModuleNotFoundError",
     "evalue": "No module named 'geopandas'",
     "output_type": "error",
     "traceback": [
      "\u001b[1;31m---------------------------------------------------------------------------\u001b[0m",
      "\u001b[1;31mModuleNotFoundError\u001b[0m                       Traceback (most recent call last)",
      "Cell \u001b[1;32mIn[6], line 1\u001b[0m\n\u001b[1;32m----> 1\u001b[0m \u001b[38;5;28;01mimport\u001b[39;00m \u001b[38;5;21;01mgeopandas\u001b[39;00m \u001b[38;5;28;01mas\u001b[39;00m \u001b[38;5;21;01mgpd\u001b[39;00m\n\u001b[0;32m      3\u001b[0m \u001b[38;5;66;03m# Path to the shapefile\u001b[39;00m\n\u001b[0;32m      4\u001b[0m shapefile_path \u001b[38;5;241m=\u001b[39m \u001b[38;5;124mr\u001b[39m\u001b[38;5;124m\"\u001b[39m\u001b[38;5;124mC:\u001b[39m\u001b[38;5;124m\\\u001b[39m\u001b[38;5;124mUsers\u001b[39m\u001b[38;5;124m\\\u001b[39m\u001b[38;5;124mDanie\u001b[39m\u001b[38;5;124m\\\u001b[39m\u001b[38;5;124mDownloads\u001b[39m\u001b[38;5;124m\\\u001b[39m\u001b[38;5;124mNorth_Carolina_State_and_County_Boundary_Polygons\u001b[39m\u001b[38;5;124m\\\u001b[39m\u001b[38;5;124mNorth_Carolina_State_and_County_Boundary_Polygons.shp\u001b[39m\u001b[38;5;124m\"\u001b[39m\n",
      "\u001b[1;31mModuleNotFoundError\u001b[0m: No module named 'geopandas'"
     ]
    }
   ],
   "source": [
    "import geopandas as gpd\n",
    "\n",
    "# Path to the shapefile\n",
    "shapefile_path = r\"C:\\Users\\Danie\\Downloads\\North_Carolina_State_and_County_Boundary_Polygons\\North_Carolina_State_and_County_Boundary_Polygons.shp\"\n",
    "\n",
    "# Read the shapefile\n",
    "counties = gpd.read_file(shapefile_path)\n",
    "\n",
    "# List of counties in the \"Mountain Area Trauma Regional Advisory Committee\"\n",
    "mountain_counties = [\n",
    "    'Madison', 'Yancey', 'Mitchell', 'Avery',\n",
    "    'Buncombe', 'Haywood', 'Henderson', 'Swain',\n",
    "    'Jackson', 'Macon', 'Graham', 'Cherokee',\n",
    "    'Clay', 'Transylvania', 'McDowell', 'Rutherford',\n",
    "    'Polk', 'Burke'\n",
    "]\n",
    "\n",
    "# Filter for the counties of interest\n",
    "mountain_counties_gdf = counties[counties['County Name'].isin(mountain_counties)]\n",
    "\n",
    "# Calculate the centroids\n",
    "mountain_counties_gdf['centroid'] = mountain_counties_gdf.geometry.centroid\n",
    "\n",
    "# Extract the centroid coordinates\n",
    "mountain_counties_gdf['centroid_x'] = mountain_counties_gdf.centroid.x\n",
    "mountain_counties_gdf['centroid_y'] = mountain_counties_gdf.centroid.y\n",
    "\n",
    "# Print out the results\n",
    "for index, row in mountain_counties_gdf.iterrows():\n",
    "    print(f\"{row['NAME']} County centroid: ({row['centroid_x']}, {row['centroid_y']})\")\n"
   ]
  },
  {
   "cell_type": "code",
   "execution_count": null,
   "id": "3bc76eec-b242-4bc8-b503-76ec1a141590",
   "metadata": {},
   "outputs": [],
   "source": []
  }
 ],
 "metadata": {
  "kernelspec": {
   "display_name": "Python 3 (ipykernel)",
   "language": "python",
   "name": "python3"
  },
  "language_info": {
   "codemirror_mode": {
    "name": "ipython",
    "version": 3
   },
   "file_extension": ".py",
   "mimetype": "text/x-python",
   "name": "python",
   "nbconvert_exporter": "python",
   "pygments_lexer": "ipython3",
   "version": "3.11.5"
  }
 },
 "nbformat": 4,
 "nbformat_minor": 5
}
