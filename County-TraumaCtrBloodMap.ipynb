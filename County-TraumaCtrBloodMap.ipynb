{
 "cells": [
  {
   "cell_type": "code",
   "execution_count": 3,
   "id": "d253c593-32a2-4aa7-8f25-ba7d9b58af46",
   "metadata": {},
   "outputs": [
    {
     "name": "stdout",
     "output_type": "stream",
     "text": [
      "Coordinates for '509 Biltmore Ave, Asheville, NC 28801, United States': (35.5766889, -82.54922485627307)\n"
     ]
    }
   ],
   "source": [
    "from geopy.geocoders import Nominatim\n",
    "from geopy.exc import GeocoderTimedOut\n",
    "\n",
    "def geocode_address(address):\n",
    "    \"\"\"\n",
    "    Geocode an address using Nominatim and return the latitude and longitude.\n",
    "    \"\"\"\n",
    "    geolocator = Nominatim(user_agent=\"APIEx\")\n",
    "    try:\n",
    "        location = geolocator.geocode(address)\n",
    "        if location:\n",
    "            return (location.latitude, location.longitude)\n",
    "        else:\n",
    "            return \"No location found\"\n",
    "    except GeocoderTimedOut:\n",
    "        return \"Geocoder Timed Out\"\n",
    "\n",
    "# Address to be geocoded; address for Mission Hospitals Ashville, NC, only trauma ctr in Mounain Area RAC\n",
    "address = \"509 Biltmore Ave, Asheville, NC 28801, United States\"\n",
    "\n",
    "# Geocoding the address\n",
    "coords = geocode_address(address)\n",
    "\n",
    "print(f\"Coordinates for '{address}': {coords}\")\n"
   ]
  },
  {
   "cell_type": "markdown",
   "id": "d404910b-d2e3-4a19-a615-9912bef08e61",
   "metadata": {},
   "source": [
    "Geocoded coords for one example trauma center (Mission Hospitals, Asheville, NC)"
   ]
  },
  {
   "cell_type": "code",
   "execution_count": null,
   "id": "aba26ea9-1708-4075-85bf-687f437b5e69",
   "metadata": {},
   "outputs": [],
   "source": []
  }
 ],
 "metadata": {
  "kernelspec": {
   "display_name": "Python 3 (ipykernel)",
   "language": "python",
   "name": "python3"
  },
  "language_info": {
   "codemirror_mode": {
    "name": "ipython",
    "version": 3
   },
   "file_extension": ".py",
   "mimetype": "text/x-python",
   "name": "python",
   "nbconvert_exporter": "python",
   "pygments_lexer": "ipython3",
   "version": "3.11.5"
  }
 },
 "nbformat": 4,
 "nbformat_minor": 5
}
