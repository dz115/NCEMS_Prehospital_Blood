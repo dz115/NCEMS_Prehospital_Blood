{
 "cells": [
  {
   "cell_type": "code",
   "execution_count": 3,
   "id": "d253c593-32a2-4aa7-8f25-ba7d9b58af46",
   "metadata": {},
   "outputs": [
    {
     "name": "stdout",
     "output_type": "stream",
     "text": [
      "Coordinates for '509 Biltmore Ave, Asheville, NC 28801, United States': (35.5766889, -82.54922485627307)\n"
     ]
    }
   ],
   "source": [
    "from geopy.geocoders import Nominatim\n",
    "from geopy.exc import GeocoderTimedOut\n",
    "\n",
    "def geocode_address(address):\n",
    "    \"\"\"\n",
    "    Geocode an address using Nominatim and return the latitude and longitude.\n",
    "    \"\"\"\n",
    "    geolocator = Nominatim(user_agent=\"APIEx\")\n",
    "    try:\n",
    "        location = geolocator.geocode(address)\n",
    "        if location:\n",
    "            return (location.latitude, location.longitude)\n",
    "        else:\n",
    "            return \"No location found\"\n",
    "    except GeocoderTimedOut:\n",
    "        return \"Geocoder Timed Out\"\n",
    "\n",
    "# Address to be geocoded; address for Mission Hospitals Ashville, NC, only trauma ctr in Mounain Area RAC\n",
    "address = \"509 Biltmore Ave, Asheville, NC 28801, United States\"\n",
    "\n",
    "# Geocoding the address\n",
    "coords = geocode_address(address)\n",
    "\n",
    "print(f\"Coordinates for '{address}': {coords}\")\n"
   ]
  },
  {
   "cell_type": "markdown",
   "id": "d404910b-d2e3-4a19-a615-9912bef08e61",
   "metadata": {},
   "source": [
    "Geocoded coords for one example trauma center (Mission Hospitals, Asheville, NC)"
   ]
  },
  {
   "cell_type": "markdown",
   "id": "54479454-3551-4608-8bb3-846199c762d7",
   "metadata": {},
   "source": [
    "Calculate Geographical Centroids for Mountain Area RAC:"
   ]
  },
  {
   "cell_type": "code",
   "execution_count": 10,
   "id": "d92f9b3a-44f4-4cc0-b219-7b9ac85f4874",
   "metadata": {},
   "outputs": [
    {
     "name": "stdout",
     "output_type": "stream",
     "text": [
      "Jackson County centroid: (35.2875876850383, -83.14085006975861)\n",
      "Transylvania County centroid: (35.20217768788943, -82.79830045948819)\n",
      "Macon County centroid: (35.150468365516694, -83.42217953577138)\n",
      "Cherokee County centroid: (35.133857008717825, -84.06344345926534)\n",
      "Clay County centroid: (35.057180321122594, -83.75017461869042)\n",
      "Henderson County centroid: (35.336255896657065, -82.4799620000253)\n",
      "Rutherford County centroid: (35.40259428326886, -81.91983104221609)\n",
      "Polk County centroid: (35.27928036969197, -82.16968036211972)\n",
      "Graham County centroid: (35.350172319516766, -83.8335821689321)\n",
      "Haywood County centroid: (35.55605574881402, -82.98217308131721)\n",
      "Swain County centroid: (35.48681570474419, -83.49273867808799)\n",
      "Buncombe County centroid: (35.611209098793495, -82.53010657473348)\n",
      "McDowell County centroid: (35.68163641105261, -82.04931697443561)\n",
      "Burke County centroid: (35.749644249397626, -81.70484999912061)\n",
      "Madison County centroid: (35.85803560367825, -82.7057582490002)\n",
      "Yancey County centroid: (35.898948465508795, -82.3076284076433)\n",
      "Mitchell County centroid: (36.0132030242585, -82.16358115809659)\n",
      "Avery County centroid: (36.07660483828498, -81.92260192200789)\n"
     ]
    },
    {
     "name": "stderr",
     "output_type": "stream",
     "text": [
      "C:\\Users\\Danie\\AppData\\Local\\Temp\\ipykernel_1396\\672052659.py:23: UserWarning: Geometry is in a geographic CRS. Results from 'centroid' are likely incorrect. Use 'GeoSeries.to_crs()' to re-project geometries to a projected CRS before this operation.\n",
      "\n",
      "  mountain_counties_gdf['centroid'] = mountain_counties_gdf.geometry.centroid\n",
      "C:\\Users\\Danie\\miniconda3\\Lib\\site-packages\\geopandas\\geodataframe.py:1543: SettingWithCopyWarning: \n",
      "A value is trying to be set on a copy of a slice from a DataFrame.\n",
      "Try using .loc[row_indexer,col_indexer] = value instead\n",
      "\n",
      "See the caveats in the documentation: https://pandas.pydata.org/pandas-docs/stable/user_guide/indexing.html#returning-a-view-versus-a-copy\n",
      "  super().__setitem__(key, value)\n",
      "C:\\Users\\Danie\\AppData\\Local\\Temp\\ipykernel_1396\\672052659.py:26: UserWarning: Geometry is in a geographic CRS. Results from 'centroid' are likely incorrect. Use 'GeoSeries.to_crs()' to re-project geometries to a projected CRS before this operation.\n",
      "\n",
      "  mountain_counties_gdf['centroid_x'] = mountain_counties_gdf.centroid.x\n",
      "C:\\Users\\Danie\\miniconda3\\Lib\\site-packages\\geopandas\\geodataframe.py:1543: SettingWithCopyWarning: \n",
      "A value is trying to be set on a copy of a slice from a DataFrame.\n",
      "Try using .loc[row_indexer,col_indexer] = value instead\n",
      "\n",
      "See the caveats in the documentation: https://pandas.pydata.org/pandas-docs/stable/user_guide/indexing.html#returning-a-view-versus-a-copy\n",
      "  super().__setitem__(key, value)\n",
      "C:\\Users\\Danie\\AppData\\Local\\Temp\\ipykernel_1396\\672052659.py:27: UserWarning: Geometry is in a geographic CRS. Results from 'centroid' are likely incorrect. Use 'GeoSeries.to_crs()' to re-project geometries to a projected CRS before this operation.\n",
      "\n",
      "  mountain_counties_gdf['centroid_y'] = mountain_counties_gdf.centroid.y\n",
      "C:\\Users\\Danie\\miniconda3\\Lib\\site-packages\\geopandas\\geodataframe.py:1543: SettingWithCopyWarning: \n",
      "A value is trying to be set on a copy of a slice from a DataFrame.\n",
      "Try using .loc[row_indexer,col_indexer] = value instead\n",
      "\n",
      "See the caveats in the documentation: https://pandas.pydata.org/pandas-docs/stable/user_guide/indexing.html#returning-a-view-versus-a-copy\n",
      "  super().__setitem__(key, value)\n"
     ]
    }
   ],
   "source": [
    "import geopandas as gpd\n",
    "\n",
    "# Path to the shapefile\n",
    "shapefile_path = r\"C:\\Users\\Danie\\Downloads\\North_Carolina_State_and_County_Boundary_Polygons\\North_Carolina_State_and_County_Boundary_Polygons.shp\"\n",
    "\n",
    "\n",
    "# Read the shapefile\n",
    "counties = gpd.read_file(shapefile_path)\n",
    "counties = counties.to_crs(epsg=4326)\n",
    "# List of counties in the \"Mountain Area Trauma Regional Advisory Committee\"\n",
    "mountain_counties = [\n",
    "    'Madison', 'Yancey', 'Mitchell', 'Avery',\n",
    "    'Buncombe', 'Haywood', 'Henderson', 'Swain',\n",
    "    'Jackson', 'Macon', 'Graham', 'Cherokee',\n",
    "    'Clay', 'Transylvania', 'McDowell', 'Rutherford',\n",
    "    'Polk', 'Burke'\n",
    "]\n",
    "\n",
    "# Filter for the counties of interest\n",
    "mountain_counties_gdf = counties[counties['County'].isin(mountain_counties)]\n",
    "\n",
    "# Calculate the centroids\n",
    "mountain_counties_gdf['centroid'] = mountain_counties_gdf.geometry.centroid\n",
    "\n",
    "# Extract the centroid coordinates\n",
    "mountain_counties_gdf['centroid_x'] = mountain_counties_gdf.centroid.x #longitude\n",
    "mountain_counties_gdf['centroid_y'] = mountain_counties_gdf.centroid.y #latitude\n",
    "# Print out the results\n",
    "for index, row in mountain_counties_gdf.iterrows():\n",
    "    print(f\"{row['County']} County centroid: ({row['centroid_y']}, {row['centroid_x']})\") #printed so latitude first, longitude second\n"
   ]
  },
  {
   "cell_type": "code",
   "execution_count": null,
   "id": "3bc76eec-b242-4bc8-b503-76ec1a141590",
   "metadata": {},
   "outputs": [],
   "source": []
  }
 ],
 "metadata": {
  "kernelspec": {
   "display_name": "Python 3 (ipykernel)",
   "language": "python",
   "name": "python3"
  },
  "language_info": {
   "codemirror_mode": {
    "name": "ipython",
    "version": 3
   },
   "file_extension": ".py",
   "mimetype": "text/x-python",
   "name": "python",
   "nbconvert_exporter": "python",
   "pygments_lexer": "ipython3",
   "version": "3.11.5"
  }
 },
 "nbformat": 4,
 "nbformat_minor": 5
}
